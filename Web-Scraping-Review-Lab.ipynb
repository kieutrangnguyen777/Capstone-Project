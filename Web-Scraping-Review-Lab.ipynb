{
 "cells": [
  {
   "cell_type": "markdown",
   "metadata": {},
   "source": [
    "<center>\n",
    "    <img src=\"https://gitlab.com/ibm/skills-network/courses/placeholder101/-/raw/master/labs/module%201/images/IDSNlogo.png\" width=\"300\" alt=\"cognitiveclass.ai logo\"  />\n",
    "</center>\n"
   ]
  },
  {
   "cell_type": "markdown",
   "metadata": {},
   "source": [
    "# **Web Scraping Lab**\n"
   ]
  },
  {
   "cell_type": "markdown",
   "metadata": {},
   "source": [
    "Estimated time needed: **30** minutes\n"
   ]
  },
  {
   "cell_type": "markdown",
   "metadata": {},
   "source": [
    "## Objectives\n"
   ]
  },
  {
   "cell_type": "markdown",
   "metadata": {},
   "source": [
    "After completing this lab you will be able to:\n"
   ]
  },
  {
   "cell_type": "markdown",
   "metadata": {},
   "source": [
    "*   Download a webpage using requests module\n",
    "*   Scrape all links from a web page\n",
    "*   Scrape all image urls from a web page\n",
    "*   Scrape data from html tables\n"
   ]
  },
  {
   "cell_type": "markdown",
   "metadata": {},
   "source": [
    "## Scrape [www.ibm.com](http://www.ibm.com/?utm_medium=Exinfluencer\\&utm_source=Exinfluencer\\&utm_content=000026UJ\\&utm_term=10006555\\&utm_id=NA-SkillsNetwork-Channel-SkillsNetworkCoursesIBMDA0321ENSkillsNetwork21426264-2021-01-01)\n"
   ]
  },
  {
   "cell_type": "markdown",
   "metadata": {},
   "source": [
    "Import the required modules and functions\n"
   ]
  },
  {
   "cell_type": "code",
   "execution_count": 1,
   "metadata": {},
   "outputs": [],
   "source": [
    "from bs4 import BeautifulSoup # this module helps in web scrapping.\n",
    "import requests  # this module helps us to download a web page"
   ]
  },
  {
   "cell_type": "markdown",
   "metadata": {},
   "source": [
    "Download the contents of the web page\n"
   ]
  },
  {
   "cell_type": "code",
   "execution_count": 2,
   "metadata": {},
   "outputs": [],
   "source": [
    "url = \"http://www.ibm.com\""
   ]
  },
  {
   "cell_type": "code",
   "execution_count": 3,
   "metadata": {},
   "outputs": [],
   "source": [
    "# get the contents of the webpage in text format and store in a variable called data\n",
    "data  = requests.get(url).text "
   ]
  },
  {
   "cell_type": "markdown",
   "metadata": {},
   "source": [
    "Create a soup object using the class BeautifulSoup\n"
   ]
  },
  {
   "cell_type": "code",
   "execution_count": 4,
   "metadata": {},
   "outputs": [],
   "source": [
    "soup = BeautifulSoup(data,\"html5lib\")  # create a soup object using the variable 'data'"
   ]
  },
  {
   "cell_type": "markdown",
   "metadata": {},
   "source": [
    "Scrape all links\n"
   ]
  },
  {
   "cell_type": "code",
   "execution_count": 5,
   "metadata": {},
   "outputs": [
    {
     "name": "stdout",
     "output_type": "stream",
     "text": [
      "https://www.ibm.com/de/de\n",
      "\n",
      "https://www.ibm.com/de-de/products?lnk=hpmps_bupr_dede&lnk2=link\n",
      "https://www.ibm.com/de-de/industries?lnk=hpmps_buin_dede&lnk2=link\n",
      "https://www.ibm.com/de-de/artificial-intelligence?lnk=hpmps_buai_dede&lnk2=link\n",
      "https://www.ibm.com/de-de/automation?lnk=hpmps_buau_dede&lnk2=link\n",
      "https://www.ibm.com/de-de/blockchain?lnk=hpmps_bubc_dede&lnk2=link\n",
      "https://www.ibm.com/de-de/business-operations?lnk=hpmps_buop_dede&lnk2=link\n",
      "https://www.ibm.com/de-de/cloud?lnk=hpmps_bucl_dede&lnk2=link\n",
      "https://www.ibm.com/de-de/analytics?lnk=hpmps_buda_dede&lnk2=link\n",
      "https://www.ibm.com/de-de/it-infrastructure?lnk=hpmps_buit_dede&lnk2=link\n",
      "https://www.ibm.com/de-de/security?lnk=hpmps_buse_dede&lnk2=link\n",
      "https://www.ibm.com/de-de/supply-chain?lnk=hpmps_busc_dede&lnk2=link\n",
      "https://www.ibm.com/de-de/financing?lnk=hpmps_bufi_dede&lnk2=link\n",
      "https://www.ibm.com/de-de/products?lnk=hpmps_buall_dede&lnk2=link\n",
      "\n",
      "https://www.ibm.com/de-de/services/process?lnk=hpmsc_bups_dede&lnk2=link\n",
      "https://www.ibm.com/services/de-de/ibmix/?lnk=hpmsc_budbs_dede&lnk2=link\n",
      "https://www.ibm.com/de-de/services/cloud?lnk=hpmsc_buhs?lnk=hpmsc_buhs_dede\n",
      "https://www.ibm.com/de-de/talent-management?lnk=hpmsc_buta_dede&lnk2=link\n",
      "https://www.ibm.com/de-de/services/applications?lnk=hpmsc_buas_dede&lnk2=link\n",
      "https://www.ibm.com/de-de/security/services?lnk=hpmsc_buse_dede&lnk2=link\n",
      "https://www.ibm.com/de-de/services/technology-support?lnk=hpmsc_busv_dede&lnk2=link\n",
      "https://www.ibm.com/de-de/financing/solutions/it-services-financing?lnk=hpmsc_bufi_dede&lnk2=link\n",
      "https://www.ibm.com/de-de/services?lnk=hpmsc_buall_dede&lnk2=link\n",
      "\n",
      "https://www.ibm.com/support/de/de/?lnk=hpmls_busu_dede&lnk2=link\n",
      "https://www.ibm.com/support/knowledgecenter/?lnk=hpmls_budc_dede&lnk2=link\n",
      "https://developer.ibm.com/?lnk=hpmls_bude_dede&lnk2=link\n",
      "https://www.ibm.com/training/?lnk=hpmls_butr_dede&lnk2=link\n",
      "https://www.ibm.com/blogs/?lnk=hpmls_bure_dede&lnk2=link\n",
      "https://www.ibm.com/cloud/learn?lnk=hpmls_buwi_dede&lnk2=link\n",
      "\n",
      "https://www.ibm.com/de-de/partnerworld/public?lnk=hpmex_bupa_dede&lnk2=link\n",
      "https://www.research.ibm.com/?lnk=hpmex_bure_dede&lnk2=link\n",
      "https://www.ibm.com/de-de/about?lnk=hpmex_buab_dede&lnk2=link\n",
      "https://www.ibm.com/de-de/impact/covid-19?lnk=hpmex_buco_dede&lnk2=link\n",
      "https://www.ibm.com/sitemap/de/de\n",
      "https://www.ibm.com/de-de/cloud/cloud-pak-for-business-automation?lnk=dehpv18l1\n",
      "https://www.ibm.com/de-de/events/think/events/anatomie-ransomware?lnk=dehpv18nf1\n",
      "https://www.ibm.com/de-de/events/think-summit/?lnk=dehpv18l1\n",
      "https://www.ibm.com/thought-leadership/institute-business-value/report/optimize-dxp?lnk=dehpv18f2\n",
      "https://www.ibm.com/blogs/think/de-de/2021/08/cloud-satellite-travelping/?lnk=dehpv18f3\n",
      "https://www.ibm.com/de-de/garage?lnk=dehpv18f4\n",
      "https://www.ibm.com/de-de/events?lnk=dehpv18f5\n",
      "/de-de/products/offers-and-discounts?lnk=STW_DE_HPT_TL&psrc=NONE&pexp=DEF&lnk2=goto_MPDISC\n",
      "/de-de/products/db2-database?lnk=STW_DE_HPT_T1_BLK&lnk2=trial_Db2Database&psrc=none&pexp=def\n",
      "/de-de/products/verify-access?lnk=STW_DE_HPT_T2_BLK&lnk2=trial_Verify&psrc=none&pexp=def\n",
      "https://www.ibm.com/de-de/cloud/cloud-pak-for-automation?lnk=STW_DE_HPT_T3_BLK&lnk2=trial_CloudPakAtm&psrc=none&pexp=def\n",
      "/de-de/cloud/watson-assistant?lnk=STW_DE_HPT_T4_BLK&lnk2=trial_WatAssist&psrc=none&pexp=def\n",
      "/products/digital-learning-subscription/pricing?lnk=dehpv18t1\n",
      "https://developer.ibm.com/depmodels/cloud/?lnk=hpv18ct16\n",
      "https://developer.ibm.com/technologies/artificial-intelligence?lnk=hpv18ct19\n",
      "https://www.ibm.com/demos/?lnk=hpv18ct12\n",
      "https://developer.ibm.com/?lnk=hpv18ct9\n",
      "https://www.ibm.com/docs/en?lnk=hpv18ct14\n",
      "https://www.redbooks.ibm.com/?lnk=ushpv18ct10\n",
      "https://www.ibm.com/support/home/?lnk=hpv18ct11\n",
      "https://www.ibm.com/training/?lnk=hpv18ct15\n",
      "/de-de/cloud/hybrid?lnk=hpv18pt14\n",
      "/cloud/learn/public-cloud?lnk=hpv18ct1\n",
      "/de-de/watson?lnk=ushpv18pt17\n",
      "/de-de/garage?lnk=hpv18pt13\n",
      "/de-de/blockchain?lnk=hpv18pt4\n",
      "https://www.ibm.com/thought-leadership/institute-business-value/?lnk=hpv18pt12\n",
      "/de-de/analytics?lnk=hpv18pt1\n",
      "/de-de/security?lnk=hpv18pt9\n",
      "/de-de/financing?lnk=hpv18pt3\n",
      "https://www.ibm.com/de-de/quantum-computing?lnk=hpv18pt16\n",
      "/de-de/cloud/hybrid?lnk=hpv18ct20\n",
      "/cloud/learn/public-cloud?lnk=hpv18ct1\n",
      "/de-de/cloud/redhat?lnk=hpv18ct13\n",
      "/de-de/watson?lnk=hpv18ct3\n",
      "https://www.ibm.com/de-de/quantum-computing?lnk=hpv18ct18\n",
      "/cloud/learn/kubernetes?lnk=hpv18ct8\n",
      "/de-de/products/spss-statistics?lnk=ushpv18ct7\n",
      "/de-de/blockchain?lnk=hpv18ct1\n",
      "https://www.ibm.com/de-de/employment?lnk=hpv18ct2\n",
      "https://www.ibm.com/case-studies/coca-cola-european-partners/?lnk=hpv18cs1\n",
      "/case-studies/search?lnk=hpv18cs2\n",
      "https://www.ibm.com/de-de/products/?lnk=fdi\n",
      "https://www.ibm.com/software/de/info/trials/?lnk=STW_DE_HPF_THP_FT_TL&lnk2=goto_THP\n",
      "https://www.ibm.com/de-de/marketplace/collections/offers-and-discounts/?lnk=STW_DE_HPF_DISC_FT_TL&lnk2=goto_MPDISC\n",
      "https://www.ibm.com/technologyservices/de/de/?lnk=fdi-dede\n",
      "https://www.ibm.com/de-de/industries\n",
      "https://www.ibm.com/ibm/clientreference/us/en/?lnk=fdi-dede\n",
      "https://www.ibm.com/de-de/events?lnk=fdi-dede\n",
      "https://www.ibm.com/de-de/blogs/think/?lnk=fdi-dede\n",
      "https://www.ibm.com/marketing/de-de/das-ist-ibm/\n",
      "https://www.ibm.com/de-de/financing\n",
      "https://www.ibm.com/developerworks/?lnk=fif-dede\n",
      "https://www.ibm.com/de-de/partnerworld/public\n",
      "https://www.ibm.com/partners/start/?lnk=fif-dede\n",
      "https://www.ibm.com/support/de/de/?lnk=fcw-dede\n",
      "https://www.ibm.com/partnerworld/public\n",
      "https://myibm.ibm.com/dashboard/?lnk=mmi_dede\n",
      "https://www.ibm.com/employment/de-de/?lnk=fab-dede\n",
      "https://de.newsroom.ibm.com/\n",
      "https://www.ibm.com/investor/?lnk=fab-dede\n",
      "https://www.ibm.com/ibm/de/de/?lnk=fab-dede\n",
      "https://www.ibm.com/ibm/clientcenter/boeblingen/\n",
      "https://www.ibm.com/ibm/clientcenter/ehningen/?lnk=fab-dede\n",
      "https://www.ibm.com/internet-of-things/learn/munich-iot-center\n",
      "https://www.ibm.com/contact/de/de/?lnk=flg-cont-dede\n",
      "https://www.ibm.com/de-de/privacy?lnk=flg-priv-dede\n",
      "https://www.ibm.com/de-de/legal?lnk=flg-tous-dede\n",
      "https://www.ibm.com/able?lnk=flg-able-dede\n",
      "https://www.ibm.com/ibm/de/de\n",
      "#\n"
     ]
    }
   ],
   "source": [
    "for link in soup.find_all('a'):  # in html anchor/link is represented by the tag <a>\n",
    "    print(link.get('href'))"
   ]
  },
  {
   "cell_type": "markdown",
   "metadata": {},
   "source": [
    "Scrape  all images\n"
   ]
  },
  {
   "cell_type": "code",
   "execution_count": 6,
   "metadata": {},
   "outputs": [
    {
     "name": "stdout",
     "output_type": "stream",
     "text": [
      "//1.cms.s81c.com/sites/default/files/2021-09-13/Think-Summit-Banner_444x254.jpg\n",
      "//1.cms.s81c.com/sites/default/files/2021-09-02/20210816-IBV-Optimize-DXP-26017-444x254_0.jpg\n",
      "//1.cms.s81c.com/sites/default/files/2021-08-20/ibm-cloud-satellite-444x254.jpg\n",
      "//1.cms.s81c.com/sites/default/files/2021-08-27/20210607-ls-garage-tour-444x254.png\n",
      "//1.cms.s81c.com/sites/default/files/2021-08-05/03062020-dede-dach-events-444x254.jpg\n",
      "//1.cms.s81c.com/sites/default/files/2021-09-17/Db2-on-Cloud-22239-700x420.png\n",
      "//1.cms.s81c.com/sites/default/files/2021-09-17/Security-Verify-Access-Trial-444x254.png\n",
      "//1.cms.s81c.com/sites/default/files/2021-04-28/Cloud-pak-for-automation-444x260%5B1%5D.png\n",
      "//1.cms.s81c.com/sites/default/files/2021-09-17/Watson-Assistant-23212-700x420.png\n",
      "//1.cms.s81c.com/sites/default/files/2021-04-29/ibm-cloud-learning-444x254_0.png\n"
     ]
    }
   ],
   "source": [
    "for link in soup.find_all('img'):# in html image is represented by the tag <img>\n",
    "    print(link.get('src'))"
   ]
  },
  {
   "cell_type": "markdown",
   "metadata": {},
   "source": [
    "## Scrape data from html tables\n"
   ]
  },
  {
   "cell_type": "code",
   "execution_count": 7,
   "metadata": {},
   "outputs": [],
   "source": [
    "#The below url contains a html table with data about colors and color codes."
   ]
  },
  {
   "cell_type": "code",
   "execution_count": 8,
   "metadata": {},
   "outputs": [],
   "source": [
    "url = \"https://cf-courses-data.s3.us.cloud-object-storage.appdomain.cloud/IBM-DA0321EN-SkillsNetwork/labs/datasets/HTMLColorCodes.html\""
   ]
  },
  {
   "cell_type": "markdown",
   "metadata": {},
   "source": [
    "Before proceeding to scrape a web site, you need to examine the contents, and the way data is organized on the website. Open the above url in your browser and check how many rows and columns are there in the color table.\n"
   ]
  },
  {
   "cell_type": "code",
   "execution_count": 9,
   "metadata": {},
   "outputs": [],
   "source": [
    "# get the contents of the webpage in text format and store in a variable called data\n",
    "data  = requests.get(url).text"
   ]
  },
  {
   "cell_type": "code",
   "execution_count": 10,
   "metadata": {},
   "outputs": [],
   "source": [
    "soup = BeautifulSoup(data,\"html5lib\")"
   ]
  },
  {
   "cell_type": "code",
   "execution_count": 11,
   "metadata": {},
   "outputs": [],
   "source": [
    "#find a html table in the web page\n",
    "table = soup.find('table') # in html table is represented by the tag <table>"
   ]
  },
  {
   "cell_type": "code",
   "execution_count": 12,
   "metadata": {},
   "outputs": [
    {
     "name": "stdout",
     "output_type": "stream",
     "text": [
      "Color Name--->Hex Code#RRGGBB\n",
      "lightsalmon--->#FFA07A\n",
      "salmon--->#FA8072\n",
      "darksalmon--->#E9967A\n",
      "lightcoral--->#F08080\n",
      "coral--->#FF7F50\n",
      "tomato--->#FF6347\n",
      "orangered--->#FF4500\n",
      "gold--->#FFD700\n",
      "orange--->#FFA500\n",
      "darkorange--->#FF8C00\n",
      "lightyellow--->#FFFFE0\n",
      "lemonchiffon--->#FFFACD\n",
      "papayawhip--->#FFEFD5\n",
      "moccasin--->#FFE4B5\n",
      "peachpuff--->#FFDAB9\n",
      "palegoldenrod--->#EEE8AA\n",
      "khaki--->#F0E68C\n",
      "darkkhaki--->#BDB76B\n",
      "yellow--->#FFFF00\n",
      "lawngreen--->#7CFC00\n",
      "chartreuse--->#7FFF00\n",
      "limegreen--->#32CD32\n",
      "lime--->#00FF00\n",
      "forestgreen--->#228B22\n",
      "green--->#008000\n",
      "powderblue--->#B0E0E6\n",
      "lightblue--->#ADD8E6\n",
      "lightskyblue--->#87CEFA\n",
      "skyblue--->#87CEEB\n",
      "deepskyblue--->#00BFFF\n",
      "lightsteelblue--->#B0C4DE\n",
      "dodgerblue--->#1E90FF\n"
     ]
    }
   ],
   "source": [
    "#Get all rows from the table\n",
    "for row in table.find_all('tr'): # in html table row is represented by the tag <tr>\n",
    "    # Get all columns in each row.\n",
    "    cols = row.find_all('td') # in html a column is represented by the tag <td>\n",
    "    color_name = cols[2].getText() # store the value in column 3 as color_name\n",
    "    color_code = cols[3].getText() # store the value in column 4 as color_code\n",
    "    print(\"{}--->{}\".format(color_name,color_code))"
   ]
  },
  {
   "cell_type": "markdown",
   "metadata": {},
   "source": [
    "## Authors\n"
   ]
  },
  {
   "cell_type": "markdown",
   "metadata": {},
   "source": [
    "Ramesh Sannareddy\n"
   ]
  },
  {
   "cell_type": "markdown",
   "metadata": {},
   "source": [
    "### Other Contributors\n"
   ]
  },
  {
   "cell_type": "markdown",
   "metadata": {},
   "source": [
    "Rav Ahuja\n"
   ]
  },
  {
   "cell_type": "markdown",
   "metadata": {},
   "source": [
    "## Change Log\n"
   ]
  },
  {
   "cell_type": "markdown",
   "metadata": {},
   "source": [
    "| Date (YYYY-MM-DD) | Version | Changed By        | Change Description                 |\n",
    "| ----------------- | ------- | ----------------- | ---------------------------------- |\n",
    "| 2020-10-17        | 0.1     | Ramesh Sannareddy | Created initial version of the lab |\n"
   ]
  },
  {
   "cell_type": "markdown",
   "metadata": {},
   "source": [
    "Copyright © 2020 IBM Corporation. This notebook and its source code are released under the terms of the [MIT License](https://cognitiveclass.ai/mit-license/?utm_medium=Exinfluencer\\&utm_source=Exinfluencer\\&utm_content=000026UJ\\&utm_term=10006555\\&utm_id=NA-SkillsNetwork-Channel-SkillsNetworkCoursesIBMDA0321ENSkillsNetwork21426264-2021-01-01).\n"
   ]
  }
 ],
 "metadata": {
  "kernelspec": {
   "display_name": "Python 3",
   "language": "python",
   "name": "python3"
  },
  "language_info": {
   "codemirror_mode": {
    "name": "ipython",
    "version": 3
   },
   "file_extension": ".py",
   "mimetype": "text/x-python",
   "name": "python",
   "nbconvert_exporter": "python",
   "pygments_lexer": "ipython3",
   "version": "3.8.8"
  }
 },
 "nbformat": 4,
 "nbformat_minor": 4
}
